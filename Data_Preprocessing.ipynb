{
  "nbformat": 4,
  "nbformat_minor": 0,
  "metadata": {
    "colab": {
      "name": "Data Preprocessing.ipynb",
      "provenance": []
    },
    "kernelspec": {
      "name": "python3",
      "display_name": "Python 3"
    }
  },
  "cells": [
    {
      "cell_type": "markdown",
      "metadata": {
        "id": "45bxBpf2Amd3"
      },
      "source": [
        "#Beijing Multi-Site Air-Quality Analysis#"
      ]
    },
    {
      "cell_type": "markdown",
      "metadata": {
        "id": "PLlc0bHvT86H"
      },
      "source": [
        "**Importing necessary libraries**"
      ]
    },
    {
      "cell_type": "code",
      "metadata": {
        "id": "FnQ_Ud-DAkHs"
      },
      "source": [
        "import pandas as pd\n",
        "import numpy as np\n",
        "import random\n",
        "from sklearn import preprocessing"
      ],
      "execution_count": 32,
      "outputs": []
    },
    {
      "cell_type": "markdown",
      "metadata": {
        "id": "KKL76oFNRaGi"
      },
      "source": [
        "**Reading csv data as Dataframe using pandas**"
      ]
    },
    {
      "cell_type": "code",
      "metadata": {
        "id": "1dwl3XSuA1xB"
      },
      "source": [
        "df1 = pd.read_csv(\"PRSA_Data_Aotizhongxin_20130301-20170228.csv\")\n",
        "df2 = pd.read_csv(\"PRSA_Data_Changping_20130301-20170228.csv\")\n",
        "df3 = pd.read_csv(\"PRSA_Data_Dingling_20130301-20170228.csv\")\n",
        "df4 = pd.read_csv(\"PRSA_Data_Dongsi_20130301-20170228.csv\")\n",
        "df5 = pd.read_csv(\"PRSA_Data_Guanyuan_20130301-20170228.csv\")\n",
        "df6 = pd.read_csv(\"PRSA_Data_Gucheng_20130301-20170228.csv\")\n",
        "df7 = pd.read_csv(\"PRSA_Data_Huairou_20130301-20170228.csv\")\n",
        "df8 = pd.read_csv(\"PRSA_Data_Nongzhanguan_20130301-20170228.csv\")\n",
        "df9 = pd.read_csv(\"PRSA_Data_Shunyi_20130301-20170228.csv\")\n",
        "df10 = pd.read_csv(\"PRSA_Data_Tiantan_20130301-20170228.csv\")\n",
        "df11 = pd.read_csv(\"PRSA_Data_Wanliu_20130301-20170228.csv\")\n",
        "df12 = pd.read_csv(\"PRSA_Data_Wanshouxigong_20130301-20170228.csv\")"
      ],
      "execution_count": 33,
      "outputs": []
    },
    {
      "cell_type": "markdown",
      "metadata": {
        "id": "R8R-sbOLRhIf"
      },
      "source": [
        "**Merging 12 individual dataframes into single dataframe using Pandas**"
      ]
    },
    {
      "cell_type": "code",
      "metadata": {
        "id": "uG7729ROBd-Z"
      },
      "source": [
        "frames = [df1, df2, df3,df4, df5, df6,df7, df8, df9,df10,df11, df12]\n",
        "data = pd.concat(frames)"
      ],
      "execution_count": 34,
      "outputs": []
    },
    {
      "cell_type": "markdown",
      "metadata": {
        "id": "FLX5dv8bSI6-"
      },
      "source": [
        "**Concise summary of the dataframe**"
      ]
    },
    {
      "cell_type": "code",
      "metadata": {
        "id": "fB1Zyu_yIWfM",
        "outputId": "12da14ce-9532-4101-be92-b4bd64c81aae",
        "colab": {
          "base_uri": "https://localhost:8080/",
          "height": 442
        }
      },
      "source": [
        "data.info()"
      ],
      "execution_count": 36,
      "outputs": [
        {
          "output_type": "stream",
          "text": [
            "<class 'pandas.core.frame.DataFrame'>\n",
            "Int64Index: 420768 entries, 0 to 35063\n",
            "Data columns (total 18 columns):\n",
            " #   Column   Non-Null Count   Dtype  \n",
            "---  ------   --------------   -----  \n",
            " 0   No       420768 non-null  int64  \n",
            " 1   year     420768 non-null  int64  \n",
            " 2   month    420768 non-null  int64  \n",
            " 3   day      420768 non-null  int64  \n",
            " 4   hour     420768 non-null  int64  \n",
            " 5   PM2.5    412029 non-null  float64\n",
            " 6   PM10     414319 non-null  float64\n",
            " 7   SO2      411747 non-null  float64\n",
            " 8   NO2      408652 non-null  float64\n",
            " 9   CO       400067 non-null  float64\n",
            " 10  O3       407491 non-null  float64\n",
            " 11  TEMP     420370 non-null  float64\n",
            " 12  PRES     420375 non-null  float64\n",
            " 13  DEWP     420365 non-null  float64\n",
            " 14  RAIN     420378 non-null  float64\n",
            " 15  wd       418946 non-null  object \n",
            " 16  WSPM     420450 non-null  float64\n",
            " 17  station  420768 non-null  object \n",
            "dtypes: float64(11), int64(5), object(2)\n",
            "memory usage: 61.0+ MB\n"
          ],
          "name": "stdout"
        }
      ]
    },
    {
      "cell_type": "markdown",
      "metadata": {
        "id": "ChQ7BJ2_SeQ5"
      },
      "source": [
        "**Identifying the data types of all the columns in the dataframe**"
      ]
    },
    {
      "cell_type": "code",
      "metadata": {
        "id": "FYYRX6b4QeWL",
        "outputId": "174a3381-92b7-430a-e971-08ef6f60f0b9",
        "colab": {
          "base_uri": "https://localhost:8080/",
          "height": 340
        }
      },
      "source": [
        "data.dtypes"
      ],
      "execution_count": null,
      "outputs": [
        {
          "output_type": "execute_result",
          "data": {
            "text/plain": [
              "No           int64\n",
              "year         int64\n",
              "month        int64\n",
              "day          int64\n",
              "hour         int64\n",
              "PM2.5      float64\n",
              "PM10       float64\n",
              "SO2        float64\n",
              "NO2        float64\n",
              "CO         float64\n",
              "O3         float64\n",
              "TEMP       float64\n",
              "PRES       float64\n",
              "DEWP       float64\n",
              "RAIN       float64\n",
              "wd          object\n",
              "WSPM       float64\n",
              "station     object\n",
              "dtype: object"
            ]
          },
          "metadata": {
            "tags": []
          },
          "execution_count": 20
        }
      ]
    },
    {
      "cell_type": "markdown",
      "metadata": {
        "id": "v_b2w8bHSj3i"
      },
      "source": [
        "**Using describe function**\n",
        "\n",
        "**The describe() function in pandas is very handy in getting various summary statistics.This function returns the count, mean, standard deviation, minimum and maximum values and the quantiles of the data**"
      ]
    },
    {
      "cell_type": "code",
      "metadata": {
        "id": "S0HGIVFiBm-N",
        "outputId": "5a3799be-9c21-4651-b066-235690e8e511",
        "colab": {
          "base_uri": "https://localhost:8080/",
          "height": 317
        }
      },
      "source": [
        "data.describe()"
      ],
      "execution_count": null,
      "outputs": [
        {
          "output_type": "execute_result",
          "data": {
            "text/html": [
              "<div>\n",
              "<style scoped>\n",
              "    .dataframe tbody tr th:only-of-type {\n",
              "        vertical-align: middle;\n",
              "    }\n",
              "\n",
              "    .dataframe tbody tr th {\n",
              "        vertical-align: top;\n",
              "    }\n",
              "\n",
              "    .dataframe thead th {\n",
              "        text-align: right;\n",
              "    }\n",
              "</style>\n",
              "<table border=\"1\" class=\"dataframe\">\n",
              "  <thead>\n",
              "    <tr style=\"text-align: right;\">\n",
              "      <th></th>\n",
              "      <th>No</th>\n",
              "      <th>year</th>\n",
              "      <th>month</th>\n",
              "      <th>day</th>\n",
              "      <th>hour</th>\n",
              "      <th>PM2.5</th>\n",
              "      <th>PM10</th>\n",
              "      <th>SO2</th>\n",
              "      <th>NO2</th>\n",
              "      <th>CO</th>\n",
              "      <th>O3</th>\n",
              "      <th>TEMP</th>\n",
              "      <th>PRES</th>\n",
              "      <th>DEWP</th>\n",
              "      <th>RAIN</th>\n",
              "      <th>WSPM</th>\n",
              "    </tr>\n",
              "  </thead>\n",
              "  <tbody>\n",
              "    <tr>\n",
              "      <th>count</th>\n",
              "      <td>420768.000000</td>\n",
              "      <td>420768.000000</td>\n",
              "      <td>420768.000000</td>\n",
              "      <td>420768.000000</td>\n",
              "      <td>420768.000000</td>\n",
              "      <td>412029.000000</td>\n",
              "      <td>414319.000000</td>\n",
              "      <td>411747.000000</td>\n",
              "      <td>408652.000000</td>\n",
              "      <td>400067.000000</td>\n",
              "      <td>407491.000000</td>\n",
              "      <td>420370.000000</td>\n",
              "      <td>420375.000000</td>\n",
              "      <td>420365.000000</td>\n",
              "      <td>420378.000000</td>\n",
              "      <td>420450.000000</td>\n",
              "    </tr>\n",
              "    <tr>\n",
              "      <th>mean</th>\n",
              "      <td>17532.500000</td>\n",
              "      <td>2014.662560</td>\n",
              "      <td>6.522930</td>\n",
              "      <td>15.729637</td>\n",
              "      <td>11.500000</td>\n",
              "      <td>79.793428</td>\n",
              "      <td>104.602618</td>\n",
              "      <td>15.830835</td>\n",
              "      <td>50.638586</td>\n",
              "      <td>1230.766454</td>\n",
              "      <td>57.372271</td>\n",
              "      <td>13.538976</td>\n",
              "      <td>1010.746982</td>\n",
              "      <td>2.490822</td>\n",
              "      <td>0.064476</td>\n",
              "      <td>1.729711</td>\n",
              "    </tr>\n",
              "    <tr>\n",
              "      <th>std</th>\n",
              "      <td>10122.116943</td>\n",
              "      <td>1.177198</td>\n",
              "      <td>3.448707</td>\n",
              "      <td>8.800102</td>\n",
              "      <td>6.922195</td>\n",
              "      <td>80.822391</td>\n",
              "      <td>91.772426</td>\n",
              "      <td>21.650603</td>\n",
              "      <td>35.127912</td>\n",
              "      <td>1160.182716</td>\n",
              "      <td>56.661607</td>\n",
              "      <td>11.436139</td>\n",
              "      <td>10.474055</td>\n",
              "      <td>13.793847</td>\n",
              "      <td>0.821004</td>\n",
              "      <td>1.246386</td>\n",
              "    </tr>\n",
              "    <tr>\n",
              "      <th>min</th>\n",
              "      <td>1.000000</td>\n",
              "      <td>2013.000000</td>\n",
              "      <td>1.000000</td>\n",
              "      <td>1.000000</td>\n",
              "      <td>0.000000</td>\n",
              "      <td>2.000000</td>\n",
              "      <td>2.000000</td>\n",
              "      <td>0.285600</td>\n",
              "      <td>1.026500</td>\n",
              "      <td>100.000000</td>\n",
              "      <td>0.214200</td>\n",
              "      <td>-19.900000</td>\n",
              "      <td>982.400000</td>\n",
              "      <td>-43.400000</td>\n",
              "      <td>0.000000</td>\n",
              "      <td>0.000000</td>\n",
              "    </tr>\n",
              "    <tr>\n",
              "      <th>25%</th>\n",
              "      <td>8766.750000</td>\n",
              "      <td>2014.000000</td>\n",
              "      <td>4.000000</td>\n",
              "      <td>8.000000</td>\n",
              "      <td>5.750000</td>\n",
              "      <td>20.000000</td>\n",
              "      <td>36.000000</td>\n",
              "      <td>3.000000</td>\n",
              "      <td>23.000000</td>\n",
              "      <td>500.000000</td>\n",
              "      <td>11.000000</td>\n",
              "      <td>3.100000</td>\n",
              "      <td>1002.300000</td>\n",
              "      <td>-8.900000</td>\n",
              "      <td>0.000000</td>\n",
              "      <td>0.900000</td>\n",
              "    </tr>\n",
              "    <tr>\n",
              "      <th>50%</th>\n",
              "      <td>17532.500000</td>\n",
              "      <td>2015.000000</td>\n",
              "      <td>7.000000</td>\n",
              "      <td>16.000000</td>\n",
              "      <td>11.500000</td>\n",
              "      <td>55.000000</td>\n",
              "      <td>82.000000</td>\n",
              "      <td>7.000000</td>\n",
              "      <td>43.000000</td>\n",
              "      <td>900.000000</td>\n",
              "      <td>45.000000</td>\n",
              "      <td>14.500000</td>\n",
              "      <td>1010.400000</td>\n",
              "      <td>3.100000</td>\n",
              "      <td>0.000000</td>\n",
              "      <td>1.400000</td>\n",
              "    </tr>\n",
              "    <tr>\n",
              "      <th>75%</th>\n",
              "      <td>26298.250000</td>\n",
              "      <td>2016.000000</td>\n",
              "      <td>10.000000</td>\n",
              "      <td>23.000000</td>\n",
              "      <td>17.250000</td>\n",
              "      <td>111.000000</td>\n",
              "      <td>145.000000</td>\n",
              "      <td>20.000000</td>\n",
              "      <td>71.000000</td>\n",
              "      <td>1500.000000</td>\n",
              "      <td>82.000000</td>\n",
              "      <td>23.300000</td>\n",
              "      <td>1019.000000</td>\n",
              "      <td>15.100000</td>\n",
              "      <td>0.000000</td>\n",
              "      <td>2.200000</td>\n",
              "    </tr>\n",
              "    <tr>\n",
              "      <th>max</th>\n",
              "      <td>35064.000000</td>\n",
              "      <td>2017.000000</td>\n",
              "      <td>12.000000</td>\n",
              "      <td>31.000000</td>\n",
              "      <td>23.000000</td>\n",
              "      <td>999.000000</td>\n",
              "      <td>999.000000</td>\n",
              "      <td>500.000000</td>\n",
              "      <td>290.000000</td>\n",
              "      <td>10000.000000</td>\n",
              "      <td>1071.000000</td>\n",
              "      <td>41.600000</td>\n",
              "      <td>1042.800000</td>\n",
              "      <td>29.100000</td>\n",
              "      <td>72.500000</td>\n",
              "      <td>13.200000</td>\n",
              "    </tr>\n",
              "  </tbody>\n",
              "</table>\n",
              "</div>"
            ],
            "text/plain": [
              "                  No           year  ...           RAIN           WSPM\n",
              "count  420768.000000  420768.000000  ...  420378.000000  420450.000000\n",
              "mean    17532.500000    2014.662560  ...       0.064476       1.729711\n",
              "std     10122.116943       1.177198  ...       0.821004       1.246386\n",
              "min         1.000000    2013.000000  ...       0.000000       0.000000\n",
              "25%      8766.750000    2014.000000  ...       0.000000       0.900000\n",
              "50%     17532.500000    2015.000000  ...       0.000000       1.400000\n",
              "75%     26298.250000    2016.000000  ...       0.000000       2.200000\n",
              "max     35064.000000    2017.000000  ...      72.500000      13.200000\n",
              "\n",
              "[8 rows x 16 columns]"
            ]
          },
          "metadata": {
            "tags": []
          },
          "execution_count": 21
        }
      ]
    },
    {
      "cell_type": "markdown",
      "metadata": {
        "id": "NewB_XtVSYxb"
      },
      "source": [
        "**Renaming the coulmn Names/Labels**\n",
        "\n",
        "**This approach is done for better understanding which improves the readability of the data set.**"
      ]
    },
    {
      "cell_type": "code",
      "metadata": {
        "id": "z4AbB-qCP7lt"
      },
      "source": [
        "data=data.rename(columns ={'wd':'wind_direction','DEWP':'dew_point_temp','TEMP':'temp','RAIN':'rain','WSPM':'wind_speed','PRES':'pressure'})"
      ],
      "execution_count": null,
      "outputs": []
    },
    {
      "cell_type": "markdown",
      "metadata": {
        "id": "enNsAK3_SxYP"
      },
      "source": [
        "**Replacing the null values with median of the column**\n",
        "\n",
        "**Analysis of a dataset which contains missing values or NAN data will result in prediction with high error and very less accuracy. Hence, null data entities are found out and are replaced by the mean/median value of the respective attribute values.**"
      ]
    },
    {
      "cell_type": "code",
      "metadata": {
        "id": "jEhygnyLCfEs",
        "outputId": "8d076791-26c8-4912-e01d-644b062855f2",
        "colab": {
          "base_uri": "https://localhost:8080/",
          "height": 340
        }
      },
      "source": [
        "data.isna().sum()"
      ],
      "execution_count": null,
      "outputs": [
        {
          "output_type": "execute_result",
          "data": {
            "text/plain": [
              "No             0\n",
              "year           0\n",
              "month          0\n",
              "day            0\n",
              "hour           0\n",
              "PM2.5       8739\n",
              "PM10        6449\n",
              "SO2         9021\n",
              "NO2        12116\n",
              "CO         20701\n",
              "O3         13277\n",
              "TEMP         398\n",
              "PRES         393\n",
              "DEWP         403\n",
              "RAIN         390\n",
              "wd          1822\n",
              "WSPM         318\n",
              "station        0\n",
              "dtype: int64"
            ]
          },
          "metadata": {
            "tags": []
          },
          "execution_count": 24
        }
      ]
    },
    {
      "cell_type": "markdown",
      "metadata": {
        "id": "8CNG74b9TWrs"
      },
      "source": [
        "**In this dataset, the percent of data missing is higher for the 6 columnns.Imputing the median values to the missing values as an estimate of the missing value.**"
      ]
    },
    {
      "cell_type": "code",
      "metadata": {
        "id": "qs4Aj9_0P7Zf"
      },
      "source": [
        "data['PM10'].fillna(data['PM10'].median(), inplace=True)\n",
        "data['PM2.5'].fillna(data['PM2.5'].median(), inplace=True)\n",
        "data['SO2'].fillna(data['SO2'].median(), inplace=True)\n",
        "data['CO'].fillna(data['CO'].median(), inplace=True)\n",
        "data['O3'].fillna(data['O3'].median(), inplace=True)"
      ],
      "execution_count": null,
      "outputs": []
    }
  ]
}